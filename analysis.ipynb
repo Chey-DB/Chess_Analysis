{
 "cells": [
  {
   "cell_type": "code",
   "execution_count": 40,
   "metadata": {},
   "outputs": [],
   "source": [
    "import chess\n",
    "import chess.engine\n",
    "import chess.pgn\n",
    "import io\n",
    "import json\n",
    "import pandas as pd\n",
    "from stockfish import Stockfish\n",
    "import time\n",
    "import requests\n",
    "\n"
   ]
  },
  {
   "cell_type": "code",
   "execution_count": 4,
   "metadata": {},
   "outputs": [],
   "source": [
    "stockfish_path = \"/mnt/c/Users/x_BrownBlanC/Coding/stockfish/stockfish-windows-x86-64-sse41-popcnt.exe\"\n",
    "stockfish = Stockfish(path=stockfish_path, depth=20, parameters={\"Threads\": 4, \"Minimum Thinking Time\": 30, \"Hash\": 2048})"
   ]
  },
  {
   "cell_type": "code",
   "execution_count": 85,
   "metadata": {},
   "outputs": [],
   "source": [
    "chess_username = \"CheyDB\"\n",
    "chess_email = \"cheydb@rocketmail.com\"\n",
    "url = f\"https://api.chess.com/pub/player/{chess_username}/games/archives\"\n",
    "headers = {\"User-Agent\": f\"username:{chess_username}, email:{chess_email}\"}"
   ]
  },
  {
   "cell_type": "code",
   "execution_count": 82,
   "metadata": {},
   "outputs": [],
   "source": [
    "def get_monthly_archive_urls(chess_username=chess_username, url=url, headers=headers):\n",
    "    response = requests.get(url=url, headers=headers)\n",
    "    monthly_archive_urls = response.json()[\"archives\"]\n",
    "    return monthly_archive_urls"
   ]
  },
  {
   "cell_type": "code",
   "execution_count": 84,
   "metadata": {},
   "outputs": [
    {
     "data": {
      "text/plain": [
       "67"
      ]
     },
     "execution_count": 84,
     "metadata": {},
     "output_type": "execute_result"
    }
   ],
   "source": [
    "len(get_monthly_archive_urls())"
   ]
  },
  {
   "cell_type": "code",
   "execution_count": 68,
   "metadata": {},
   "outputs": [
    {
     "name": "stdout",
     "output_type": "stream",
     "text": [
      "{'url': 'https://www.chess.com/game/live/3023955132', 'pgn': '[Event \"Live Chess\"]\\n[Site \"Chess.com\"]\\n[Date \"2018.08.22\"]\\n[Round \"-\"]\\n[White \"CheyDB\"]\\n[Black \"raghav777701\"]\\n[Result \"1-0\"]\\n[CurrentPosition \"1nbqkbnr/1p2p3/2pp1p2/2r4p/N1BPP1pN/pP4B1/P1P2PPP/R2Q1RK1 b k -\"]\\n[Timezone \"UTC\"]\\n[ECO \"B00\"]\\n[ECOUrl \"https://www.chess.com/openings/Kings-Pawn-Opening-Ware-Defense-2.d4\"]\\n[UTCDate \"2018.08.22\"]\\n[UTCTime \"17:56:20\"]\\n[WhiteElo \"1022\"]\\n[BlackElo \"924\"]\\n[TimeControl \"600\"]\\n[Termination \"CheyDB won - game abandoned\"]\\n[StartTime \"17:56:20\"]\\n[EndDate \"2018.08.22\"]\\n[EndTime \"18:04:30\"]\\n[Link \"https://www.chess.com/game/live/3023955132\"]\\n\\n1. e4 {[%clk 0:09:58.1]} 1... a5 {[%clk 0:09:48.5]} 2. d4 {[%clk 0:09:54]} 2... c6 {[%clk 0:09:40.9]} 3. Nc3 {[%clk 0:09:47.5]} 3... d6 {[%clk 0:09:24.9]} 4. Nf3 {[%clk 0:09:42.6]} 4... h5 {[%clk 0:09:14.8]} 5. Bg5 {[%clk 0:09:29.6]} 5... f6 {[%clk 0:09:09.3]} 6. Bh4 {[%clk 0:09:23.7]} 6... g5 {[%clk 0:08:54]} 7. Bg3 {[%clk 0:09:02.6]} 7... a4 {[%clk 0:08:36.3]} 8. Bc4 {[%clk 0:08:17.7]} 8... g4 {[%clk 0:07:43.5]} 9. Nh4 {[%clk 0:07:52.1]} 9... Ra5 {[%clk 0:07:25.6]} 10. O-O {[%clk 0:06:36]} 10... a3 {[%clk 0:07:12.3]} 11. b3 {[%clk 0:06:28.8]} 11... Rc5 {[%clk 0:07:02.7]} 12. Na4 {[%clk 0:06:14.1]} 1-0\\n', 'time_control': '600', 'end_time': 1534961070, 'rated': True, 'tcn': 'mCWGlBYQbsZRgv3NcM1TMF2MFwGyfAMEvF4GegyqjrGIsy', 'uuid': '763857f8-bf11-11e3-8000-000000010001', 'initial_setup': 'rnbqkbnr/pppppppp/8/8/8/8/PPPPPPPP/RNBQKBNR w KQkq - 0 1', 'fen': '1nbqkbnr/1p2p3/2pp1p2/2r4p/N1BPP1pN/pP4B1/P1P2PPP/R2Q1RK1 b k -', 'time_class': 'blitz', 'rules': 'chess', 'white': {'rating': 1022, 'result': 'win', '@id': 'https://api.chess.com/pub/player/cheydb', 'username': 'CheyDB', 'uuid': 'd729acac-9b0e-11e6-802e-000000000000'}, 'black': {'rating': 924, 'result': 'abandoned', '@id': 'https://api.chess.com/pub/player/raghav777701', 'username': 'raghav777701', 'uuid': '003882a0-876a-11e8-8050-000000000000'}}\n"
     ]
    }
   ],
   "source": [
    "def get_games_from_monthly_archive(monthly_archive_url):\n",
    "    response = requests.get(url=monthly_archive_url)\n",
    "    games = response.json()[\"games\"]\n",
    "    return games"
   ]
  },
  {
   "cell_type": "code",
   "execution_count": 79,
   "metadata": {},
   "outputs": [],
   "source": [
    "def get_live_games(games):\n",
    "    live_games = []\n",
    "    for game in games:\n",
    "        if game[\"url\"].split(\"/\")[-2] == \"live\":\n",
    "            live_games.append(game)\n",
    "    return live_games"
   ]
  },
  {
   "cell_type": "code",
   "execution_count": 80,
   "metadata": {},
   "outputs": [],
   "source": [
    "def get_daily_games(games):\n",
    "    daily_games = []\n",
    "    for game in games:\n",
    "        if game[\"url\"].split(\"/\")[-2] == \"daily\":\n",
    "            daily_games.append(game)\n",
    "    return daily_games"
   ]
  },
  {
   "cell_type": "code",
   "execution_count": 69,
   "metadata": {},
   "outputs": [],
   "source": [
    "game = chess.pgn.read_game(io.StringIO(games[0][\"pgn\"]))\n",
    "board = game.board()\n",
    "for move in game.mainline_moves():\n",
    "    board.push(move)\n",
    "    board\n"
   ]
  },
  {
   "cell_type": "code",
   "execution_count": 70,
   "metadata": {},
   "outputs": [
    {
     "data": {
      "text/plain": [
       "[Move.from_uci('e2e4'),\n",
       " Move.from_uci('a7a5'),\n",
       " Move.from_uci('d2d4'),\n",
       " Move.from_uci('c7c6'),\n",
       " Move.from_uci('b1c3'),\n",
       " Move.from_uci('d7d6'),\n",
       " Move.from_uci('g1f3'),\n",
       " Move.from_uci('h7h5'),\n",
       " Move.from_uci('c1g5'),\n",
       " Move.from_uci('f7f6'),\n",
       " Move.from_uci('g5h4'),\n",
       " Move.from_uci('g7g5'),\n",
       " Move.from_uci('h4g3'),\n",
       " Move.from_uci('a5a4'),\n",
       " Move.from_uci('f1c4'),\n",
       " Move.from_uci('g5g4'),\n",
       " Move.from_uci('f3h4'),\n",
       " Move.from_uci('a8a5'),\n",
       " Move.from_uci('e1g1'),\n",
       " Move.from_uci('a4a3'),\n",
       " Move.from_uci('b2b3'),\n",
       " Move.from_uci('a5c5'),\n",
       " Move.from_uci('c3a4')]"
      ]
     },
     "execution_count": 70,
     "metadata": {},
     "output_type": "execute_result"
    }
   ],
   "source": [
    "board.move_stack"
   ]
  },
  {
   "cell_type": "code",
   "execution_count": 71,
   "metadata": {},
   "outputs": [
    {
     "data": {
      "text/plain": [
       "{'Event': 'Live Chess',\n",
       " 'Site': 'Chess.com',\n",
       " 'Date': '2018.08.22',\n",
       " 'Round': '-',\n",
       " 'White': 'CheyDB',\n",
       " 'Black': 'raghav777701',\n",
       " 'Result': '1-0',\n",
       " 'CurrentPosition': '1nbqkbnr/1p2p3/2pp1p2/2r4p/N1BPP1pN/pP4B1/P1P2PPP/R2Q1RK1 b k -',\n",
       " 'Timezone': 'UTC',\n",
       " 'ECO': 'B00',\n",
       " 'ECOUrl': 'https://www.chess.com/openings/Kings-Pawn-Opening-Ware-Defense-2.d4',\n",
       " 'UTCDate': '2018.08.22',\n",
       " 'UTCTime': '17:56:20',\n",
       " 'WhiteElo': '1022',\n",
       " 'BlackElo': '924',\n",
       " 'TimeControl': '600',\n",
       " 'Termination': 'CheyDB won - game abandoned',\n",
       " 'StartTime': '17:56:20',\n",
       " 'EndDate': '2018.08.22',\n",
       " 'EndTime': '18:04:30',\n",
       " 'Link': 'https://www.chess.com/game/live/3023955132'}"
      ]
     },
     "execution_count": 71,
     "metadata": {},
     "output_type": "execute_result"
    }
   ],
   "source": [
    "dict(game.headers)"
   ]
  },
  {
   "cell_type": "code",
   "execution_count": 72,
   "metadata": {},
   "outputs": [
    {
     "data": {
      "text/plain": [
       "{'Event': 'Live Chess',\n",
       " 'Site': 'Chess.com',\n",
       " 'Date': '2018.08.22',\n",
       " 'Round': '-',\n",
       " 'White': 'CheyDB',\n",
       " 'Black': 'raghav777701',\n",
       " 'Result': '1-0',\n",
       " 'CurrentPosition': '1nbqkbnr/1p2p3/2pp1p2/2r4p/N1BPP1pN/pP4B1/P1P2PPP/R2Q1RK1 b k -',\n",
       " 'Timezone': 'UTC',\n",
       " 'ECO': 'B00',\n",
       " 'ECOUrl': 'https://www.chess.com/openings/Kings-Pawn-Opening-Ware-Defense-2.d4',\n",
       " 'UTCDate': '2018.08.22',\n",
       " 'UTCTime': '17:56:20',\n",
       " 'WhiteElo': '1022',\n",
       " 'BlackElo': '924',\n",
       " 'TimeControl': '600',\n",
       " 'Termination': 'CheyDB won - game abandoned',\n",
       " 'StartTime': '17:56:20',\n",
       " 'EndDate': '2018.08.22',\n",
       " 'EndTime': '18:04:30',\n",
       " 'Link': 'https://www.chess.com/game/live/3023955132'}"
      ]
     },
     "execution_count": 72,
     "metadata": {},
     "output_type": "execute_result"
    }
   ],
   "source": [
    "dict((game.headers))"
   ]
  },
  {
   "cell_type": "code",
   "execution_count": 73,
   "metadata": {},
   "outputs": [
    {
     "name": "stdout",
     "output_type": "stream",
     "text": [
      "r n b q k b n r\n",
      "p p p p p p p p\n",
      ". . . . . . . .\n",
      ". . . . . . . .\n",
      ". . . . P . . .\n",
      ". . . . . . . .\n",
      "P P P P . P P P\n",
      "R N B Q K B N R\n",
      "r n b q k b n r\n",
      ". p p p p p p p\n",
      ". . . . . . . .\n",
      "p . . . . . . .\n",
      ". . . . P . . .\n",
      ". . . . . . . .\n",
      "P P P P . P P P\n",
      "R N B Q K B N R\n",
      "r n b q k b n r\n",
      ". p p p p p p p\n",
      ". . . . . . . .\n",
      "p . . . . . . .\n",
      ". . . P P . . .\n",
      ". . . . . . . .\n",
      "P P P . . P P P\n",
      "R N B Q K B N R\n",
      "r n b q k b n r\n",
      ". p . p p p p p\n",
      ". . p . . . . .\n",
      "p . . . . . . .\n",
      ". . . P P . . .\n",
      ". . . . . . . .\n",
      "P P P . . P P P\n",
      "R N B Q K B N R\n",
      "r n b q k b n r\n",
      ". p . p p p p p\n",
      ". . p . . . . .\n",
      "p . . . . . . .\n",
      ". . . P P . . .\n",
      ". . N . . . . .\n",
      "P P P . . P P P\n",
      "R . B Q K B N R\n",
      "r n b q k b n r\n",
      ". p . . p p p p\n",
      ". . p p . . . .\n",
      "p . . . . . . .\n",
      ". . . P P . . .\n",
      ". . N . . . . .\n",
      "P P P . . P P P\n",
      "R . B Q K B N R\n",
      "r n b q k b n r\n",
      ". p . . p p p p\n",
      ". . p p . . . .\n",
      "p . . . . . . .\n",
      ". . . P P . . .\n",
      ". . N . . N . .\n",
      "P P P . . P P P\n",
      "R . B Q K B . R\n",
      "r n b q k b n r\n",
      ". p . . p p p .\n",
      ". . p p . . . .\n",
      "p . . . . . . p\n",
      ". . . P P . . .\n",
      ". . N . . N . .\n",
      "P P P . . P P P\n",
      "R . B Q K B . R\n",
      "r n b q k b n r\n",
      ". p . . p p p .\n",
      ". . p p . . . .\n",
      "p . . . . . B p\n",
      ". . . P P . . .\n",
      ". . N . . N . .\n",
      "P P P . . P P P\n",
      "R . . Q K B . R\n",
      "r n b q k b n r\n",
      ". p . . p . p .\n",
      ". . p p . p . .\n",
      "p . . . . . B p\n",
      ". . . P P . . .\n",
      ". . N . . N . .\n",
      "P P P . . P P P\n",
      "R . . Q K B . R\n",
      "r n b q k b n r\n",
      ". p . . p . p .\n",
      ". . p p . p . .\n",
      "p . . . . . . p\n",
      ". . . P P . . B\n",
      ". . N . . N . .\n",
      "P P P . . P P P\n",
      "R . . Q K B . R\n",
      "r n b q k b n r\n",
      ". p . . p . . .\n",
      ". . p p . p . .\n",
      "p . . . . . p p\n",
      ". . . P P . . B\n",
      ". . N . . N . .\n",
      "P P P . . P P P\n",
      "R . . Q K B . R\n",
      "r n b q k b n r\n",
      ". p . . p . . .\n",
      ". . p p . p . .\n",
      "p . . . . . p p\n",
      ". . . P P . . .\n",
      ". . N . . N B .\n",
      "P P P . . P P P\n",
      "R . . Q K B . R\n",
      "r n b q k b n r\n",
      ". p . . p . . .\n",
      ". . p p . p . .\n",
      ". . . . . . p p\n",
      "p . . P P . . .\n",
      ". . N . . N B .\n",
      "P P P . . P P P\n",
      "R . . Q K B . R\n",
      "r n b q k b n r\n",
      ". p . . p . . .\n",
      ". . p p . p . .\n",
      ". . . . . . p p\n",
      "p . B P P . . .\n",
      ". . N . . N B .\n",
      "P P P . . P P P\n",
      "R . . Q K . . R\n",
      "r n b q k b n r\n",
      ". p . . p . . .\n",
      ". . p p . p . .\n",
      ". . . . . . . p\n",
      "p . B P P . p .\n",
      ". . N . . N B .\n",
      "P P P . . P P P\n",
      "R . . Q K . . R\n",
      "r n b q k b n r\n",
      ". p . . p . . .\n",
      ". . p p . p . .\n",
      ". . . . . . . p\n",
      "p . B P P . p N\n",
      ". . N . . . B .\n",
      "P P P . . P P P\n",
      "R . . Q K . . R\n",
      ". n b q k b n r\n",
      ". p . . p . . .\n",
      ". . p p . p . .\n",
      "r . . . . . . p\n",
      "p . B P P . p N\n",
      ". . N . . . B .\n",
      "P P P . . P P P\n",
      "R . . Q K . . R\n",
      ". n b q k b n r\n",
      ". p . . p . . .\n",
      ". . p p . p . .\n",
      "r . . . . . . p\n",
      "p . B P P . p N\n",
      ". . N . . . B .\n",
      "P P P . . P P P\n",
      "R . . Q . R K .\n",
      ". n b q k b n r\n",
      ". p . . p . . .\n",
      ". . p p . p . .\n",
      "r . . . . . . p\n",
      ". . B P P . p N\n",
      "p . N . . . B .\n",
      "P P P . . P P P\n",
      "R . . Q . R K .\n",
      ". n b q k b n r\n",
      ". p . . p . . .\n",
      ". . p p . p . .\n",
      "r . . . . . . p\n",
      ". . B P P . p N\n",
      "p P N . . . B .\n",
      "P . P . . P P P\n",
      "R . . Q . R K .\n",
      ". n b q k b n r\n",
      ". p . . p . . .\n",
      ". . p p . p . .\n",
      ". . r . . . . p\n",
      ". . B P P . p N\n",
      "p P N . . . B .\n",
      "P . P . . P P P\n",
      "R . . Q . R K .\n",
      ". n b q k b n r\n",
      ". p . . p . . .\n",
      ". . p p . p . .\n",
      ". . r . . . . p\n",
      "N . B P P . p N\n",
      "p P . . . . B .\n",
      "P . P . . P P P\n",
      "R . . Q . R K .\n",
      "         Game ID  Move Number  Move Move Color Piece Moved Starting Square  \\\n",
      "0   Your_Game_ID            1  e2e4      White           P              e2   \n",
      "1   Your_Game_ID            2  a7a5      Black           p              a7   \n",
      "2   Your_Game_ID            3  d2d4      White           P              d2   \n",
      "3   Your_Game_ID            4  c7c6      Black           p              c7   \n",
      "4   Your_Game_ID            5  b1c3      White           N              b1   \n",
      "5   Your_Game_ID            6  d7d6      Black           p              d7   \n",
      "6   Your_Game_ID            7  g1f3      White           N              g1   \n",
      "7   Your_Game_ID            8  h7h5      Black           p              h7   \n",
      "8   Your_Game_ID            9  c1g5      White           B              c1   \n",
      "9   Your_Game_ID           10  f7f6      Black           p              f7   \n",
      "10  Your_Game_ID           11  g5h4      White           B              g5   \n",
      "11  Your_Game_ID           12  g7g5      Black           p              g7   \n",
      "12  Your_Game_ID           13  h4g3      White           B              h4   \n",
      "13  Your_Game_ID           14  a5a4      Black           p              a5   \n",
      "14  Your_Game_ID           15  f1c4      White           B              f1   \n",
      "15  Your_Game_ID           16  g5g4      Black           p              g5   \n",
      "16  Your_Game_ID           17  f3h4      White           N              f3   \n",
      "17  Your_Game_ID           18  a8a5      Black           r              a8   \n",
      "18  Your_Game_ID           19  e1g1      White           K              e1   \n",
      "19  Your_Game_ID           20  a4a3      Black           p              a4   \n",
      "20  Your_Game_ID           21  b2b3      White           P              b2   \n",
      "21  Your_Game_ID           22  a5c5      Black           r              a5   \n",
      "22  Your_Game_ID           23  c3a4      White           N              c3   \n",
      "\n",
      "   Ending Square  Capture  Check  Checkmate  Promotion Comments  \n",
      "0             e4     True  False      False      False     None  \n",
      "1             a5     True  False      False      False     None  \n",
      "2             d4     True  False      False      False     None  \n",
      "3             c6     True  False      False      False     None  \n",
      "4             c3     True  False      False      False     None  \n",
      "5             d6     True  False      False      False     None  \n",
      "6             f3     True  False      False      False     None  \n",
      "7             h5     True  False      False      False     None  \n",
      "8             g5     True  False      False      False     None  \n",
      "9             f6     True  False      False      False     None  \n",
      "10            h4     True  False      False      False     None  \n",
      "11            g5     True  False      False      False     None  \n",
      "12            g3     True  False      False      False     None  \n",
      "13            a4     True  False      False      False     None  \n",
      "14            c4     True  False      False      False     None  \n",
      "15            g4     True  False      False      False     None  \n",
      "16            h4     True  False      False      False     None  \n",
      "17            a5     True  False      False      False     None  \n",
      "18            g1     True  False      False      False     None  \n",
      "19            a3     True  False      False      False     None  \n",
      "20            b3     True  False      False      False     None  \n",
      "21            c5     True  False      False      False     None  \n",
      "22            a4     True  False      False      False     None  \n"
     ]
    }
   ],
   "source": [
    "data = []\n",
    "board = chess.Board()\n",
    "for move_number, move in enumerate(game.mainline_moves(), 1):\n",
    "    board.push(move)\n",
    "    move_info = {\n",
    "        'Game ID': 'Your_Game_ID',  # Assign appropriate ID\n",
    "        'Move Number': move_number,\n",
    "        'Move': move.uci(),\n",
    "        'Move Color': 'White' if move_number % 2 else 'Black',\n",
    "        'Piece Moved': board.piece_at(move.to_square),\n",
    "        'Starting Square': chess.SQUARE_NAMES[move.from_square],\n",
    "        'Ending Square': chess.SQUARE_NAMES[move.to_square],\n",
    "        'Capture': board.is_capture(move),  # Checks if the move is a capture\n",
    "        'Check': board.is_check(),\n",
    "        'Checkmate': board.is_checkmate(),\n",
    "        'Promotion': bool(move.promotion),\n",
    "        'Comments': None  # Placeholder for potential annotations or comments\n",
    "    }\n",
    "    print(board)\n",
    "    data.append(move_info)\n",
    "\n",
    "df_moves = pd.DataFrame(data)\n",
    "print(df_moves)"
   ]
  },
  {
   "cell_type": "code",
   "execution_count": 74,
   "metadata": {},
   "outputs": [
    {
     "data": {
      "text/plain": [
       "'Live Chess'"
      ]
     },
     "execution_count": 74,
     "metadata": {},
     "output_type": "execute_result"
    }
   ],
   "source": [
    "game.headers[\"Event\"]"
   ]
  },
  {
   "cell_type": "code",
   "execution_count": null,
   "metadata": {},
   "outputs": [],
   "source": []
  },
  {
   "cell_type": "code",
   "execution_count": null,
   "metadata": {},
   "outputs": [],
   "source": []
  },
  {
   "cell_type": "code",
   "execution_count": null,
   "metadata": {},
   "outputs": [],
   "source": []
  },
  {
   "cell_type": "code",
   "execution_count": null,
   "metadata": {},
   "outputs": [],
   "source": []
  },
  {
   "cell_type": "code",
   "execution_count": null,
   "metadata": {},
   "outputs": [],
   "source": []
  },
  {
   "cell_type": "code",
   "execution_count": null,
   "metadata": {},
   "outputs": [],
   "source": []
  },
  {
   "cell_type": "code",
   "execution_count": null,
   "metadata": {},
   "outputs": [],
   "source": []
  },
  {
   "cell_type": "code",
   "execution_count": null,
   "metadata": {},
   "outputs": [],
   "source": []
  },
  {
   "cell_type": "code",
   "execution_count": null,
   "metadata": {},
   "outputs": [],
   "source": []
  },
  {
   "cell_type": "code",
   "execution_count": null,
   "metadata": {},
   "outputs": [],
   "source": []
  },
  {
   "cell_type": "code",
   "execution_count": null,
   "metadata": {},
   "outputs": [],
   "source": []
  },
  {
   "cell_type": "code",
   "execution_count": null,
   "metadata": {},
   "outputs": [],
   "source": []
  }
 ],
 "metadata": {
  "kernelspec": {
   "display_name": "chess-analysis-venv",
   "language": "python",
   "name": "python3"
  },
  "language_info": {
   "codemirror_mode": {
    "name": "ipython",
    "version": 3
   },
   "file_extension": ".py",
   "mimetype": "text/x-python",
   "name": "python",
   "nbconvert_exporter": "python",
   "pygments_lexer": "ipython3",
   "version": "3.12.2"
  }
 },
 "nbformat": 4,
 "nbformat_minor": 2
}
